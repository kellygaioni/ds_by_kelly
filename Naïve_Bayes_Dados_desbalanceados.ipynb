{
  "nbformat": 4,
  "nbformat_minor": 0,
  "metadata": {
    "colab": {
      "provenance": [],
      "include_colab_link": true
    },
    "kernelspec": {
      "name": "python3",
      "display_name": "Python 3"
    }
  },
  "cells": [
    {
      "cell_type": "markdown",
      "metadata": {
        "id": "view-in-github",
        "colab_type": "text"
      },
      "source": [
        "<a href=\"https://colab.research.google.com/github/kellygaioni/ds_by_kelly/blob/main/Na%C3%AFve_Bayes_Dados_desbalanceados.ipynb\" target=\"_parent\"><img src=\"https://colab.research.google.com/assets/colab-badge.svg\" alt=\"Open In Colab\"/></a>"
      ]
    },
    {
      "cell_type": "markdown",
      "metadata": {
        "id": "bnzPmx8P52UF"
      },
      "source": [
        "# Classificação com dados desbalanceados"
      ]
    },
    {
      "cell_type": "code",
      "source": [
        "# Resumo:\n",
        "# Esse código utiliza o algoritimo Naive Bayes para classificar uma base de clientes que pagam ou não emprestimos gerados ao bancos, com\n",
        "# uma amostra de dados desbalanceados. Logo após, é usado os métodos de underdampling e oversamçpling para balancear a amortra e\n",
        "# reduzir as perdas financeiras para o banco com a maior acurária do algoritimo ára o público que paga o emprestimo e apontados com o oposto\n",
        "# pelo Neive Bayes"
      ],
      "metadata": {
        "id": "7RIym5016wFH"
      },
      "execution_count": null,
      "outputs": []
    },
    {
      "cell_type": "markdown",
      "metadata": {
        "id": "DTxzWPl_Vel4"
      },
      "source": [
        "## Carregamento da base de dados"
      ]
    },
    {
      "cell_type": "code",
      "metadata": {
        "id": "NudHlvMHBTlS"
      },
      "source": [
        "import pandas as pd\n",
        "import random\n",
        "import numpy as np"
      ],
      "execution_count": null,
      "outputs": []
    },
    {
      "cell_type": "code",
      "metadata": {
        "colab": {
          "base_uri": "https://localhost:8080/"
        },
        "id": "UIE0VCD6ZilF",
        "outputId": "71f89927-c4b0-4887-fdc9-3b6ad477fa8b"
      },
      "source": [
        "from google.colab import drive\n",
        "drive.mount('/content/drive')"
      ],
      "execution_count": null,
      "outputs": [
        {
          "output_type": "stream",
          "name": "stdout",
          "text": [
            "Mounted at /content/drive\n"
          ]
        }
      ]
    },
    {
      "cell_type": "code",
      "metadata": {
        "id": "gqH_zFo9Bbih"
      },
      "source": [
        "dataset = pd.read_csv('credit_data.csv')"
      ],
      "execution_count": null,
      "outputs": []
    },
    {
      "cell_type": "code",
      "metadata": {
        "id": "8iqh9PC7Bj-B",
        "colab": {
          "base_uri": "https://localhost:8080/"
        },
        "outputId": "1d2e4af8-4db5-4e41-9742-72076e9d8cd5"
      },
      "source": [
        "dataset.shape"
      ],
      "execution_count": null,
      "outputs": [
        {
          "output_type": "execute_result",
          "data": {
            "text/plain": [
              "(2000, 5)"
            ]
          },
          "metadata": {},
          "execution_count": 4
        }
      ]
    },
    {
      "cell_type": "code",
      "metadata": {
        "id": "71gReO7sBnYn",
        "colab": {
          "base_uri": "https://localhost:8080/",
          "height": 206
        },
        "outputId": "b7bedd83-8b63-4741-9966-643c30866790"
      },
      "source": [
        "dataset.head()"
      ],
      "execution_count": null,
      "outputs": [
        {
          "output_type": "execute_result",
          "data": {
            "text/plain": [
              "   i#clientid        income        age         loan  c#default\n",
              "0           1  66155.925095  59.017015  8106.532131          0\n",
              "1           2  34415.153966  48.117153  6564.745018          0\n",
              "2           3  57317.170063  63.108049  8020.953296          0\n",
              "3           4  42709.534201  45.751972  6103.642260          0\n",
              "4           5  66952.688845  18.584336  8770.099235          1"
            ],
            "text/html": [
              "\n",
              "  <div id=\"df-fc861d51-a83e-4f31-9a31-f843c9135ad9\" class=\"colab-df-container\">\n",
              "    <div>\n",
              "<style scoped>\n",
              "    .dataframe tbody tr th:only-of-type {\n",
              "        vertical-align: middle;\n",
              "    }\n",
              "\n",
              "    .dataframe tbody tr th {\n",
              "        vertical-align: top;\n",
              "    }\n",
              "\n",
              "    .dataframe thead th {\n",
              "        text-align: right;\n",
              "    }\n",
              "</style>\n",
              "<table border=\"1\" class=\"dataframe\">\n",
              "  <thead>\n",
              "    <tr style=\"text-align: right;\">\n",
              "      <th></th>\n",
              "      <th>i#clientid</th>\n",
              "      <th>income</th>\n",
              "      <th>age</th>\n",
              "      <th>loan</th>\n",
              "      <th>c#default</th>\n",
              "    </tr>\n",
              "  </thead>\n",
              "  <tbody>\n",
              "    <tr>\n",
              "      <th>0</th>\n",
              "      <td>1</td>\n",
              "      <td>66155.925095</td>\n",
              "      <td>59.017015</td>\n",
              "      <td>8106.532131</td>\n",
              "      <td>0</td>\n",
              "    </tr>\n",
              "    <tr>\n",
              "      <th>1</th>\n",
              "      <td>2</td>\n",
              "      <td>34415.153966</td>\n",
              "      <td>48.117153</td>\n",
              "      <td>6564.745018</td>\n",
              "      <td>0</td>\n",
              "    </tr>\n",
              "    <tr>\n",
              "      <th>2</th>\n",
              "      <td>3</td>\n",
              "      <td>57317.170063</td>\n",
              "      <td>63.108049</td>\n",
              "      <td>8020.953296</td>\n",
              "      <td>0</td>\n",
              "    </tr>\n",
              "    <tr>\n",
              "      <th>3</th>\n",
              "      <td>4</td>\n",
              "      <td>42709.534201</td>\n",
              "      <td>45.751972</td>\n",
              "      <td>6103.642260</td>\n",
              "      <td>0</td>\n",
              "    </tr>\n",
              "    <tr>\n",
              "      <th>4</th>\n",
              "      <td>5</td>\n",
              "      <td>66952.688845</td>\n",
              "      <td>18.584336</td>\n",
              "      <td>8770.099235</td>\n",
              "      <td>1</td>\n",
              "    </tr>\n",
              "  </tbody>\n",
              "</table>\n",
              "</div>\n",
              "    <div class=\"colab-df-buttons\">\n",
              "\n",
              "  <div class=\"colab-df-container\">\n",
              "    <button class=\"colab-df-convert\" onclick=\"convertToInteractive('df-fc861d51-a83e-4f31-9a31-f843c9135ad9')\"\n",
              "            title=\"Convert this dataframe to an interactive table.\"\n",
              "            style=\"display:none;\">\n",
              "\n",
              "  <svg xmlns=\"http://www.w3.org/2000/svg\" height=\"24px\" viewBox=\"0 -960 960 960\">\n",
              "    <path d=\"M120-120v-720h720v720H120Zm60-500h600v-160H180v160Zm220 220h160v-160H400v160Zm0 220h160v-160H400v160ZM180-400h160v-160H180v160Zm440 0h160v-160H620v160ZM180-180h160v-160H180v160Zm440 0h160v-160H620v160Z\"/>\n",
              "  </svg>\n",
              "    </button>\n",
              "\n",
              "  <style>\n",
              "    .colab-df-container {\n",
              "      display:flex;\n",
              "      gap: 12px;\n",
              "    }\n",
              "\n",
              "    .colab-df-convert {\n",
              "      background-color: #E8F0FE;\n",
              "      border: none;\n",
              "      border-radius: 50%;\n",
              "      cursor: pointer;\n",
              "      display: none;\n",
              "      fill: #1967D2;\n",
              "      height: 32px;\n",
              "      padding: 0 0 0 0;\n",
              "      width: 32px;\n",
              "    }\n",
              "\n",
              "    .colab-df-convert:hover {\n",
              "      background-color: #E2EBFA;\n",
              "      box-shadow: 0px 1px 2px rgba(60, 64, 67, 0.3), 0px 1px 3px 1px rgba(60, 64, 67, 0.15);\n",
              "      fill: #174EA6;\n",
              "    }\n",
              "\n",
              "    .colab-df-buttons div {\n",
              "      margin-bottom: 4px;\n",
              "    }\n",
              "\n",
              "    [theme=dark] .colab-df-convert {\n",
              "      background-color: #3B4455;\n",
              "      fill: #D2E3FC;\n",
              "    }\n",
              "\n",
              "    [theme=dark] .colab-df-convert:hover {\n",
              "      background-color: #434B5C;\n",
              "      box-shadow: 0px 1px 3px 1px rgba(0, 0, 0, 0.15);\n",
              "      filter: drop-shadow(0px 1px 2px rgba(0, 0, 0, 0.3));\n",
              "      fill: #FFFFFF;\n",
              "    }\n",
              "  </style>\n",
              "\n",
              "    <script>\n",
              "      const buttonEl =\n",
              "        document.querySelector('#df-fc861d51-a83e-4f31-9a31-f843c9135ad9 button.colab-df-convert');\n",
              "      buttonEl.style.display =\n",
              "        google.colab.kernel.accessAllowed ? 'block' : 'none';\n",
              "\n",
              "      async function convertToInteractive(key) {\n",
              "        const element = document.querySelector('#df-fc861d51-a83e-4f31-9a31-f843c9135ad9');\n",
              "        const dataTable =\n",
              "          await google.colab.kernel.invokeFunction('convertToInteractive',\n",
              "                                                    [key], {});\n",
              "        if (!dataTable) return;\n",
              "\n",
              "        const docLinkHtml = 'Like what you see? Visit the ' +\n",
              "          '<a target=\"_blank\" href=https://colab.research.google.com/notebooks/data_table.ipynb>data table notebook</a>'\n",
              "          + ' to learn more about interactive tables.';\n",
              "        element.innerHTML = '';\n",
              "        dataTable['output_type'] = 'display_data';\n",
              "        await google.colab.output.renderOutput(dataTable, element);\n",
              "        const docLink = document.createElement('div');\n",
              "        docLink.innerHTML = docLinkHtml;\n",
              "        element.appendChild(docLink);\n",
              "      }\n",
              "    </script>\n",
              "  </div>\n",
              "\n",
              "\n",
              "<div id=\"df-9b8f5a84-d12f-44d0-a327-f0b9811b0cc3\">\n",
              "  <button class=\"colab-df-quickchart\" onclick=\"quickchart('df-9b8f5a84-d12f-44d0-a327-f0b9811b0cc3')\"\n",
              "            title=\"Suggest charts\"\n",
              "            style=\"display:none;\">\n",
              "\n",
              "<svg xmlns=\"http://www.w3.org/2000/svg\" height=\"24px\"viewBox=\"0 0 24 24\"\n",
              "     width=\"24px\">\n",
              "    <g>\n",
              "        <path d=\"M19 3H5c-1.1 0-2 .9-2 2v14c0 1.1.9 2 2 2h14c1.1 0 2-.9 2-2V5c0-1.1-.9-2-2-2zM9 17H7v-7h2v7zm4 0h-2V7h2v10zm4 0h-2v-4h2v4z\"/>\n",
              "    </g>\n",
              "</svg>\n",
              "  </button>\n",
              "\n",
              "<style>\n",
              "  .colab-df-quickchart {\n",
              "      --bg-color: #E8F0FE;\n",
              "      --fill-color: #1967D2;\n",
              "      --hover-bg-color: #E2EBFA;\n",
              "      --hover-fill-color: #174EA6;\n",
              "      --disabled-fill-color: #AAA;\n",
              "      --disabled-bg-color: #DDD;\n",
              "  }\n",
              "\n",
              "  [theme=dark] .colab-df-quickchart {\n",
              "      --bg-color: #3B4455;\n",
              "      --fill-color: #D2E3FC;\n",
              "      --hover-bg-color: #434B5C;\n",
              "      --hover-fill-color: #FFFFFF;\n",
              "      --disabled-bg-color: #3B4455;\n",
              "      --disabled-fill-color: #666;\n",
              "  }\n",
              "\n",
              "  .colab-df-quickchart {\n",
              "    background-color: var(--bg-color);\n",
              "    border: none;\n",
              "    border-radius: 50%;\n",
              "    cursor: pointer;\n",
              "    display: none;\n",
              "    fill: var(--fill-color);\n",
              "    height: 32px;\n",
              "    padding: 0;\n",
              "    width: 32px;\n",
              "  }\n",
              "\n",
              "  .colab-df-quickchart:hover {\n",
              "    background-color: var(--hover-bg-color);\n",
              "    box-shadow: 0 1px 2px rgba(60, 64, 67, 0.3), 0 1px 3px 1px rgba(60, 64, 67, 0.15);\n",
              "    fill: var(--button-hover-fill-color);\n",
              "  }\n",
              "\n",
              "  .colab-df-quickchart-complete:disabled,\n",
              "  .colab-df-quickchart-complete:disabled:hover {\n",
              "    background-color: var(--disabled-bg-color);\n",
              "    fill: var(--disabled-fill-color);\n",
              "    box-shadow: none;\n",
              "  }\n",
              "\n",
              "  .colab-df-spinner {\n",
              "    border: 2px solid var(--fill-color);\n",
              "    border-color: transparent;\n",
              "    border-bottom-color: var(--fill-color);\n",
              "    animation:\n",
              "      spin 1s steps(1) infinite;\n",
              "  }\n",
              "\n",
              "  @keyframes spin {\n",
              "    0% {\n",
              "      border-color: transparent;\n",
              "      border-bottom-color: var(--fill-color);\n",
              "      border-left-color: var(--fill-color);\n",
              "    }\n",
              "    20% {\n",
              "      border-color: transparent;\n",
              "      border-left-color: var(--fill-color);\n",
              "      border-top-color: var(--fill-color);\n",
              "    }\n",
              "    30% {\n",
              "      border-color: transparent;\n",
              "      border-left-color: var(--fill-color);\n",
              "      border-top-color: var(--fill-color);\n",
              "      border-right-color: var(--fill-color);\n",
              "    }\n",
              "    40% {\n",
              "      border-color: transparent;\n",
              "      border-right-color: var(--fill-color);\n",
              "      border-top-color: var(--fill-color);\n",
              "    }\n",
              "    60% {\n",
              "      border-color: transparent;\n",
              "      border-right-color: var(--fill-color);\n",
              "    }\n",
              "    80% {\n",
              "      border-color: transparent;\n",
              "      border-right-color: var(--fill-color);\n",
              "      border-bottom-color: var(--fill-color);\n",
              "    }\n",
              "    90% {\n",
              "      border-color: transparent;\n",
              "      border-bottom-color: var(--fill-color);\n",
              "    }\n",
              "  }\n",
              "</style>\n",
              "\n",
              "  <script>\n",
              "    async function quickchart(key) {\n",
              "      const quickchartButtonEl =\n",
              "        document.querySelector('#' + key + ' button');\n",
              "      quickchartButtonEl.disabled = true;  // To prevent multiple clicks.\n",
              "      quickchartButtonEl.classList.add('colab-df-spinner');\n",
              "      try {\n",
              "        const charts = await google.colab.kernel.invokeFunction(\n",
              "            'suggestCharts', [key], {});\n",
              "      } catch (error) {\n",
              "        console.error('Error during call to suggestCharts:', error);\n",
              "      }\n",
              "      quickchartButtonEl.classList.remove('colab-df-spinner');\n",
              "      quickchartButtonEl.classList.add('colab-df-quickchart-complete');\n",
              "    }\n",
              "    (() => {\n",
              "      let quickchartButtonEl =\n",
              "        document.querySelector('#df-9b8f5a84-d12f-44d0-a327-f0b9811b0cc3 button');\n",
              "      quickchartButtonEl.style.display =\n",
              "        google.colab.kernel.accessAllowed ? 'block' : 'none';\n",
              "    })();\n",
              "  </script>\n",
              "</div>\n",
              "    </div>\n",
              "  </div>\n"
            ]
          },
          "metadata": {},
          "execution_count": 5
        }
      ]
    },
    {
      "cell_type": "code",
      "metadata": {
        "id": "GVPKQSk6BwsC",
        "colab": {
          "base_uri": "https://localhost:8080/"
        },
        "outputId": "fc95b021-e4e5-4770-e1bf-4d60908e4803"
      },
      "source": [
        "# Para rodar o Naive Bayes, não pode ter valores nulos na base.\n",
        "# o comando inplace=True é usado para já limpar e atualizar a própria base\n",
        "dataset.dropna(inplace=True)\n",
        "dataset.shape"
      ],
      "execution_count": null,
      "outputs": [
        {
          "output_type": "execute_result",
          "data": {
            "text/plain": [
              "(1997, 5)"
            ]
          },
          "metadata": {},
          "execution_count": 7
        }
      ]
    },
    {
      "cell_type": "code",
      "metadata": {
        "id": "nvcT491qB-AJ",
        "colab": {
          "base_uri": "https://localhost:8080/",
          "height": 449
        },
        "outputId": "466e0f46-b9d3-4297-927c-f547e138af36"
      },
      "source": [
        "import seaborn as sns\n",
        "sns.countplot(x=dataset['c#default']);\n",
        "\n",
        "# Os dados estão desbalanceados, temos a maioria dos dados com 0 (pessoas q pagam o emprestimo)\n",
        "# Como o algoritimo usa probabilidade/estatisca, ele pode não aprender tão bem e ficar inviesado para o 0\n",
        "# Para evitar isso, vamos separar as bases de dados em outras variáveis para contornar esses dados desbalanceados"
      ],
      "execution_count": null,
      "outputs": [
        {
          "output_type": "display_data",
          "data": {
            "text/plain": [
              "<Figure size 640x480 with 1 Axes>"
            ],
            "image/png": "[encoded data removed]"
          },
          "metadata": {}
        }
      ]
    },
    {
      "cell_type": "code",
      "metadata": {
        "id": "dnnAJQ-lDB9W"
      },
      "source": [
        "# No X colocamos as variáveis previsoras, que no caso são os dados: income,\tage e\tloan\n",
        "X = dataset.iloc[:, 1:4].values"
      ],
      "execution_count": null,
      "outputs": []
    },
    {
      "cell_type": "code",
      "metadata": {
        "id": "SepOULyLDQCz",
        "colab": {
          "base_uri": "https://localhost:8080/"
        },
        "outputId": "29ac4d88-47f9-4991-f25b-8d4a0280850b"
      },
      "source": [
        "X.shape"
      ],
      "execution_count": null,
      "outputs": [
        {
          "output_type": "execute_result",
          "data": {
            "text/plain": [
              "(1997, 3)"
            ]
          },
          "metadata": {},
          "execution_count": 10
        }
      ]
    },
    {
      "cell_type": "code",
      "metadata": {
        "id": "1tZq2ejoDZWk"
      },
      "source": [
        "# No Y colocamos a coluna que quemos ensinar o algoritimo a predizer\n",
        "y = dataset.iloc[:, 4].values"
      ],
      "execution_count": null,
      "outputs": []
    },
    {
      "cell_type": "code",
      "metadata": {
        "id": "GCKnFpZ8Dgwy",
        "colab": {
          "base_uri": "https://localhost:8080/"
        },
        "outputId": "40c04096-a5eb-430e-da13-00e99ccda196"
      },
      "source": [
        "y.shape"
      ],
      "execution_count": null,
      "outputs": [
        {
          "output_type": "execute_result",
          "data": {
            "text/plain": [
              "(1997,)"
            ]
          },
          "metadata": {},
          "execution_count": 13
        }
      ]
    },
    {
      "cell_type": "markdown",
      "metadata": {
        "id": "NFbb9dV1EaLT"
      },
      "source": [
        "## Base de treinamento e teste"
      ]
    },
    {
      "cell_type": "code",
      "metadata": {
        "id": "dpPgFThGD31K"
      },
      "source": [
        "# Biblioteca para levantar a amostragem estratificada\n",
        "from sklearn.model_selection import train_test_split"
      ],
      "execution_count": null,
      "outputs": []
    },
    {
      "cell_type": "code",
      "metadata": {
        "id": "1wWkySSkEK-C"
      },
      "source": [
        "# 20% de teste para tentar adivinhar 80% dos dados, e a amostra estará sendo estratificada em Y que está desbalanceada\n",
        "X_treinamento, X_teste, y_treinamento, y_teste = train_test_split(X, y, test_size = 0.2, stratify = y)"
      ],
      "execution_count": null,
      "outputs": []
    },
    {
      "cell_type": "code",
      "metadata": {
        "id": "XPFAJJLSEfvA",
        "colab": {
          "base_uri": "https://localhost:8080/"
        },
        "outputId": "72243a66-f836-4a9e-c36d-9b38ce6e7ce3"
      },
      "source": [
        "X_treinamento.shape, y_treinamento.shape"
      ],
      "execution_count": null,
      "outputs": [
        {
          "output_type": "execute_result",
          "data": {
            "text/plain": [
              "((1597, 3), (1597,))"
            ]
          },
          "metadata": {},
          "execution_count": 16
        }
      ]
    },
    {
      "cell_type": "code",
      "metadata": {
        "id": "OcybzfVgEn4X",
        "colab": {
          "base_uri": "https://localhost:8080/"
        },
        "outputId": "6598747b-47fc-420c-ab09-7a88f271ceee"
      },
      "source": [
        "X_teste.shape, y_teste.shape"
      ],
      "execution_count": null,
      "outputs": [
        {
          "output_type": "execute_result",
          "data": {
            "text/plain": [
              "((400, 3), (400,))"
            ]
          },
          "metadata": {},
          "execution_count": 17
        }
      ]
    },
    {
      "cell_type": "code",
      "metadata": {
        "id": "de3wr-qNExjP",
        "colab": {
          "base_uri": "https://localhost:8080/"
        },
        "outputId": "e6a771d6-cf26-4502-d0a5-97041647d29e"
      },
      "source": [
        "# Para checar a amostra estratificada, podemos levantar as proporções da base completa e comparar com a base de treinamento\n",
        "np.unique(y, return_counts=True), 1714 / len(dataset), 283 / len(dataset)\n",
        "\n",
        "# A primeira função retorna os registros exclusivas na base y e qts registros cada um tem na base, e se dividirmos pelo total,\n",
        "# vamos verificar que o 0 (pessoas quw pagam as dívidas) representa 85% da base, e as pessoas que não pagam, 15%"
      ],
      "execution_count": null,
      "outputs": [
        {
          "output_type": "execute_result",
          "data": {
            "text/plain": [
              "((array([0, 1]), array([1714,  283])), 0.8582874311467201, 0.14171256885327993)"
            ]
          },
          "metadata": {},
          "execution_count": 20
        }
      ]
    },
    {
      "cell_type": "code",
      "metadata": {
        "id": "UZuSePYMFJUw",
        "colab": {
          "base_uri": "https://localhost:8080/"
        },
        "outputId": "e501e95b-fe47-4adb-bb7c-650b93d51df0"
      },
      "source": [
        "# Logo, como usamos o método train_test_split com amostra estartificada, esperamos que a nossa base de treinamento tenha a mesma proporção\n",
        "# E de fato, podemos observar essa proporção:\n",
        "\n",
        "np.unique(y_treinamento, return_counts=True), 1371 / len(y_treinamento) , 226 / len(y_treinamento)"
      ],
      "execution_count": null,
      "outputs": [
        {
          "output_type": "execute_result",
          "data": {
            "text/plain": [
              "((array([0, 1]), array([1371,  226])), 0.8584846587351284, 0.14151534126487164)"
            ]
          },
          "metadata": {},
          "execution_count": 21
        }
      ]
    },
    {
      "cell_type": "code",
      "metadata": {
        "id": "cfIrILE6FdyZ",
        "colab": {
          "base_uri": "https://localhost:8080/"
        },
        "outputId": "f69e3ed4-84b8-4476-cae0-69e8e0cdec95"
      },
      "source": [
        "# Na base de teste, também:\n",
        "\n",
        "np.unique(y_teste, return_counts=True), 343 / len(y_teste) , 57 / len(y_teste)"
      ],
      "execution_count": null,
      "outputs": [
        {
          "output_type": "execute_result",
          "data": {
            "text/plain": [
              "((array([0, 1]), array([343,  57])), 0.8575, 0.1425)"
            ]
          },
          "metadata": {},
          "execution_count": 22
        }
      ]
    },
    {
      "cell_type": "markdown",
      "metadata": {
        "id": "G3CipcvgGJ-V"
      },
      "source": [
        "## Classificação com Naïve Bayes"
      ]
    },
    {
      "cell_type": "code",
      "metadata": {
        "id": "RT8GaUDpGFLB"
      },
      "source": [
        "# Importando o algoritimo do naive bayes\n",
        "from sklearn.naive_bayes import GaussianNB"
      ],
      "execution_count": null,
      "outputs": []
    },
    {
      "cell_type": "code",
      "metadata": {
        "id": "Yei4cqyuGLqz",
        "colab": {
          "base_uri": "https://localhost:8080/",
          "height": 75
        },
        "outputId": "3b270777-8c84-4356-fd2e-97ee0dc548be"
      },
      "source": [
        "# A primeira coisa que fazemos nesse algoritimo é a criação da tabela de probabilidades, que é usando especificamente o .fit nas\n",
        "# bases de treinamento. Aqui no python não conseguimos vizualizar a tabela de probabilidade\n",
        "modelo = GaussianNB()\n",
        "modelo.fit(X_treinamento, y_treinamento)"
      ],
      "execution_count": null,
      "outputs": [
        {
          "output_type": "execute_result",
          "data": {
            "text/plain": [
              "GaussianNB()"
            ],
            "text/html": [
              "<style>#sk-container-id-1 {color: black;background-color: white;}#sk-container-id-1 pre{padding: 0;}#sk-container-id-1 div.sk-toggleable {background-color: white;}#sk-container-id-1 label.sk-toggleable__label {cursor: pointer;display: block;width: 100%;margin-bottom: 0;padding: 0.3em;box-sizing: border-box;text-align: center;}#sk-container-id-1 label.sk-toggleable__label-arrow:before {content: \"▸\";float: left;margin-right: 0.25em;color: #696969;}#sk-container-id-1 label.sk-toggleable__label-arrow:hover:before {color: black;}#sk-container-id-1 div.sk-estimator:hover label.sk-toggleable__label-arrow:before {color: black;}#sk-container-id-1 div.sk-toggleable__content {max-height: 0;max-width: 0;overflow: hidden;text-align: left;background-color: #f0f8ff;}#sk-container-id-1 div.sk-toggleable__content pre {margin: 0.2em;color: black;border-radius: 0.25em;background-color: #f0f8ff;}#sk-container-id-1 input.sk-toggleable__control:checked~div.sk-toggleable__content {max-height: 200px;max-width: 100%;overflow: auto;}#sk-container-id-1 input.sk-toggleable__control:checked~label.sk-toggleable__label-arrow:before {content: \"▾\";}#sk-container-id-1 div.sk-estimator input.sk-toggleable__control:checked~label.sk-toggleable__label {background-color: #d4ebff;}#sk-container-id-1 div.sk-label input.sk-toggleable__control:checked~label.sk-toggleable__label {background-color: #d4ebff;}#sk-container-id-1 input.sk-hidden--visually {border: 0;clip: rect(1px 1px 1px 1px);clip: rect(1px, 1px, 1px, 1px);height: 1px;margin: -1px;overflow: hidden;padding: 0;position: absolute;width: 1px;}#sk-container-id-1 div.sk-estimator {font-family: monospace;background-color: #f0f8ff;border: 1px dotted black;border-radius: 0.25em;box-sizing: border-box;margin-bottom: 0.5em;}#sk-container-id-1 div.sk-estimator:hover {background-color: #d4ebff;}#sk-container-id-1 div.sk-parallel-item::after {content: \"\";width: 100%;border-bottom: 1px solid gray;flex-grow: 1;}#sk-container-id-1 div.sk-label:hover label.sk-toggleable__label {background-color: #d4ebff;}#sk-container-id-1 div.sk-serial::before {content: \"\";position: absolute;border-left: 1px solid gray;box-sizing: border-box;top: 0;bottom: 0;left: 50%;z-index: 0;}#sk-container-id-1 div.sk-serial {display: flex;flex-direction: column;align-items: center;background-color: white;padding-right: 0.2em;padding-left: 0.2em;position: relative;}#sk-container-id-1 div.sk-item {position: relative;z-index: 1;}#sk-container-id-1 div.sk-parallel {display: flex;align-items: stretch;justify-content: center;background-color: white;position: relative;}#sk-container-id-1 div.sk-item::before, #sk-container-id-1 div.sk-parallel-item::before {content: \"\";position: absolute;border-left: 1px solid gray;box-sizing: border-box;top: 0;bottom: 0;left: 50%;z-index: -1;}#sk-container-id-1 div.sk-parallel-item {display: flex;flex-direction: column;z-index: 1;position: relative;background-color: white;}#sk-container-id-1 div.sk-parallel-item:first-child::after {align-self: flex-end;width: 50%;}#sk-container-id-1 div.sk-parallel-item:last-child::after {align-self: flex-start;width: 50%;}#sk-container-id-1 div.sk-parallel-item:only-child::after {width: 0;}#sk-container-id-1 div.sk-dashed-wrapped {border: 1px dashed gray;margin: 0 0.4em 0.5em 0.4em;box-sizing: border-box;padding-bottom: 0.4em;background-color: white;}#sk-container-id-1 div.sk-label label {font-family: monospace;font-weight: bold;display: inline-block;line-height: 1.2em;}#sk-container-id-1 div.sk-label-container {text-align: center;}#sk-container-id-1 div.sk-container {/* jupyter's `normalize.less` sets `[hidden] { display: none; }` but bootstrap.min.css set `[hidden] { display: none !important; }` so we also need the `!important` here to be able to override the default hidden behavior on the sphinx rendered scikit-learn.org. See: https://github.com/scikit-learn/scikit-learn/issues/21755 */display: inline-block !important;position: relative;}#sk-container-id-1 div.sk-text-repr-fallback {display: none;}</style><div id=\"sk-container-id-1\" class=\"sk-top-container\"><div class=\"sk-text-repr-fallback\"><pre>GaussianNB()</pre><b>In a Jupyter environment, please rerun this cell to show the HTML representation or trust the notebook. <br />On GitHub, the HTML representation is unable to render, please try loading this page with nbviewer.org.</b></div><div class=\"sk-container\" hidden><div class=\"sk-item\"><div class=\"sk-estimator sk-toggleable\"><input class=\"sk-toggleable__control sk-hidden--visually\" id=\"sk-estimator-id-1\" type=\"checkbox\" checked><label for=\"sk-estimator-id-1\" class=\"sk-toggleable__label sk-toggleable__label-arrow\">GaussianNB</label><div class=\"sk-toggleable__content\"><pre>GaussianNB()</pre></div></div></div></div></div>"
            ]
          },
          "metadata": {},
          "execution_count": 24
        }
      ]
    },
    {
      "cell_type": "code",
      "metadata": {
        "id": "mT_rKAXmGZKQ"
      },
      "source": [
        "# Uma vez o modelo de probabilidade criado, podemos realizar as previsões na base de teste.\n",
        "# Ou seja, o modelo é feito na base de treinamento e é usado estatiscamente para prever a base de teste\n",
        "previsoes = modelo.predict(X_teste)"
      ],
      "execution_count": null,
      "outputs": []
    },
    {
      "cell_type": "code",
      "metadata": {
        "id": "ZH1bUOzOG5cY",
        "colab": {
          "base_uri": "https://localhost:8080/"
        },
        "outputId": "77633450-ef8d-4b96-8f52-e05cd59b7a66"
      },
      "source": [
        "# Uma vez feito o modelo e as previsões, precisamos calcular o tanto que o modelo \"acertou\"\n",
        "from sklearn.metrics import accuracy_score\n",
        "accuracy_score(y_teste,previsoes)"
      ],
      "execution_count": null,
      "outputs": [
        {
          "output_type": "execute_result",
          "data": {
            "text/plain": [
              "0.9225"
            ]
          },
          "metadata": {},
          "execution_count": 27
        }
      ]
    },
    {
      "cell_type": "code",
      "metadata": {
        "id": "9Tf5GoSiHAhf",
        "outputId": "1cff6d32-da3c-4626-d298-d62cb3a018be",
        "colab": {
          "base_uri": "https://localhost:8080/"
        }
      },
      "source": [
        "# Também podemos olhar uma matriz de confusão para analisar os resultados\n",
        "\n",
        "from sklearn.metrics import confusion_matrix\n",
        "cm = confusion_matrix(y_teste,previsoes)\n",
        "cm"
      ],
      "execution_count": null,
      "outputs": [
        {
          "output_type": "execute_result",
          "data": {
            "text/plain": [
              "array([[338,   5],\n",
              "       [ 26,  31]])"
            ]
          },
          "metadata": {},
          "execution_count": 28
        }
      ]
    },
    {
      "cell_type": "code",
      "metadata": {
        "id": "QcrAEZDGHOxF",
        "colab": {
          "base_uri": "https://localhost:8080/",
          "height": 430
        },
        "outputId": "8a6ea98e-05f1-4599-d956-da55842d910a"
      },
      "source": [
        "# Para termos a mesma visualização da matris de confusão, porém, em cores, conseguimos usar o método abaixo\n",
        "# 0 338 é quando o cliente = 0 e o algotimo aponto cliente = 0 - Algoritmo acerta\n",
        "# 0 5 é quando o cliente = 1 e o algotimo aponto cliente = 0\n",
        "# 0 26 é quando o cliente = 1 e o algotimo aponto cliente = 0\n",
        "# 0 31 é quando o cliente = 1 e o algotimo aponto cliente = 1 - Algoritmo acerta\n",
        "\n",
        "# O \"pior\" erro é quando o algorito aponta como o cliente que vai pagar o emprestimo (0) mas na verdade eke está como 1 devedor,\n",
        "# que teve apenas 5 erros \"crítico\"\n",
        "\n",
        "sns.heatmap(cm, annot=True);"
      ],
      "execution_count": null,
      "outputs": [
        {
          "output_type": "display_data",
          "data": {
            "text/plain": [
              "<Figure size 640x480 with 2 Axes>"
            ],
            "image/png": "[encoded data removed]"
          },
          "metadata": {}
        }
      ]
    },
    {
      "cell_type": "code",
      "metadata": {
        "id": "nFmFz9--HsW4",
        "colab": {
          "base_uri": "https://localhost:8080/"
        },
        "outputId": "26a982f7-714d-4aca-9383-42d8501c8900"
      },
      "source": [
        "# Para fazer a acuracia total na mão, é só somar a quantidade de acertos e dividir pelo total\n",
        "(336 + 32) / (336 + 25 + 7 + 32)"
      ],
      "execution_count": null,
      "outputs": [
        {
          "output_type": "execute_result",
          "data": {
            "text/plain": [
              "0.92"
            ]
          },
          "metadata": {},
          "execution_count": 31
        }
      ]
    },
    {
      "cell_type": "code",
      "metadata": {
        "id": "Hv9hY03JH2tm",
        "colab": {
          "base_uri": "https://localhost:8080/"
        },
        "outputId": "cdc80019-fa3e-4615-ed12-501848a4964d"
      },
      "source": [
        "# Percentual de acerto para pessoas que pagam o empréstimo\n",
        "336 / (336 + 25)"
      ],
      "execution_count": null,
      "outputs": [
        {
          "output_type": "execute_result",
          "data": {
            "text/plain": [
              "0.9307479224376731"
            ]
          },
          "metadata": {},
          "execution_count": 44
        }
      ]
    },
    {
      "cell_type": "code",
      "metadata": {
        "id": "NH0YdbUuIDpK",
        "colab": {
          "base_uri": "https://localhost:8080/"
        },
        "outputId": "592884b2-e4c2-4aa1-c9a4-b45eba8153d7"
      },
      "source": [
        "# Percentual de acerto para pessoas que não pagam o empréstimo\n",
        "32 / (32 + 7)"
      ],
      "execution_count": null,
      "outputs": [
        {
          "output_type": "execute_result",
          "data": {
            "text/plain": [
              "0.8205128205128205"
            ]
          },
          "metadata": {},
          "execution_count": 45
        }
      ]
    },
    {
      "cell_type": "code",
      "source": [
        "# Como a classe de pessoal q pagam o emprestimo é maior, o algoritmo tem mais facilidade de acertar (93%), diferente da classe 1 de pessoas\n",
        "# que não pagam o emprestimo, com diferença se quase 10%, e esse comportamento é bem comum com dados desbalanceados"
      ],
      "metadata": {
        "id": "EzNn5IoGtuQZ"
      },
      "execution_count": null,
      "outputs": []
    },
    {
      "cell_type": "code",
      "metadata": {
        "id": "sxbMp1DMIb58",
        "colab": {
          "base_uri": "https://localhost:8080/"
        },
        "outputId": "c78c8f4c-c966-4c15-b275-700659ea0e42"
      },
      "source": [
        "# Exemplo: O banco usa esse algoritimo para ceder emprestimo a clientes. A perda financeira estimada para cada cliente que não paga o emprestimo\n",
        "# é de 5 mil reais, e hoje, a base de dados desse banco é de 1mil clientes que não pagaram.\n",
        "# Dentro do público que não pagam o emprestimo, temos a probabilidade de acerto em 82%. Logo, 18% são clientes que pegariam o emprestimo e o\n",
        "# nosso algoritimo está negando o emprestimo para esses clientes. Na conta abaixo podemos notar que, de 1000 clientes, 180 clientes pagariam o\n",
        "# emprestimo, mas o algotimo erra e gera perda de receita de 900 mil para o banco\n",
        "\n",
        "# Precisamos tentar reduzir essas perdas\n",
        "\n",
        "# Perdas: 5.000\n",
        "# Clientes não pagadores: 1.000\n",
        "1000 * 18 // 100 , 180 * 5000"
      ],
      "execution_count": null,
      "outputs": [
        {
          "output_type": "execute_result",
          "data": {
            "text/plain": [
              "(180, 900000)"
            ]
          },
          "metadata": {},
          "execution_count": 33
        }
      ]
    },
    {
      "cell_type": "markdown",
      "metadata": {
        "id": "O3LdjHSOJSb0"
      },
      "source": [
        "## Subamostragem (undersampling) - Tomek links\n",
        "\n",
        "- https://imbalanced-learn.org/stable/introduction.html\n",
        "\n",
        "![sub sobre amostragem.png](data:image/png;base64,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)"
      ]
    },
    {
      "cell_type": "code",
      "source": [
        "# Undersampling basicamente é quando a gente pega a classe majoritária de dados e reduz ela ao tamanho da classe menor, e os dados não são\n",
        "# escolhidos de formas aleatórios, eles são escolhidos por similaridade. Quando há muito desproporcionalidade entre as classes, nesse\n",
        "# método, podemos perder alguns dados da classe majoritária o reduzí-la.\n",
        "# O algoritimo mais conhecido para subamostra é o TomekLinks"
      ],
      "metadata": {
        "id": "Wy_oWC09xlxy"
      },
      "execution_count": null,
      "outputs": []
    },
    {
      "cell_type": "code",
      "metadata": {
        "id": "7euO-JSQLyvl"
      },
      "source": [
        "from imblearn.under_sampling import TomekLinks"
      ],
      "execution_count": null,
      "outputs": []
    },
    {
      "cell_type": "code",
      "metadata": {
        "id": "6nzI6h5GMBto"
      },
      "source": [
        "# Aqui está o método que faz de fato essa selação e a diminuição da claasse majoritária e aplicamos na base inteira inicial x e y\n",
        "tl = TomekLinks(sampling_strategy='majority')\n",
        "X_under, y_under = tl.fit_resample(X, y)"
      ],
      "execution_count": null,
      "outputs": []
    },
    {
      "cell_type": "code",
      "metadata": {
        "id": "gv6iPNX5Mren",
        "colab": {
          "base_uri": "https://localhost:8080/"
        },
        "outputId": "4830ac82-100a-416a-8536-e6c3950ed44f"
      },
      "source": [
        "# Observa-se que a amostra reduziu\n",
        "X_under.shape, y_under.shape"
      ],
      "execution_count": null,
      "outputs": [
        {
          "output_type": "execute_result",
          "data": {
            "text/plain": [
              "((1897, 3), (1897,))"
            ]
          },
          "metadata": {},
          "execution_count": 39
        }
      ]
    },
    {
      "cell_type": "code",
      "metadata": {
        "id": "j3tJD1SkNAzW",
        "colab": {
          "base_uri": "https://localhost:8080/"
        },
        "outputId": "8c6eda08-cc41-423c-cbf6-e1e59f79f871"
      },
      "source": [
        "np.unique(y, return_counts=True)"
      ],
      "execution_count": null,
      "outputs": [
        {
          "output_type": "execute_result",
          "data": {
            "text/plain": [
              "(array([0, 1]), array([1714,  283]))"
            ]
          },
          "metadata": {},
          "execution_count": 40
        }
      ]
    },
    {
      "cell_type": "code",
      "metadata": {
        "id": "HKn8t_YxNFo6",
        "colab": {
          "base_uri": "https://localhost:8080/"
        },
        "outputId": "915adc46-d448-47c4-a55c-58ea50c2ad68"
      },
      "source": [
        "np.unique(y_under, return_counts=True)"
      ],
      "execution_count": null,
      "outputs": [
        {
          "output_type": "execute_result",
          "data": {
            "text/plain": [
              "(array([0, 1]), array([1614,  283]))"
            ]
          },
          "metadata": {},
          "execution_count": 41
        }
      ]
    },
    {
      "cell_type": "code",
      "metadata": {
        "id": "WTg10B05NOAC",
        "colab": {
          "base_uri": "https://localhost:8080/"
        },
        "outputId": "33c1fbfa-a719-4ccd-8e7a-9bda62cb4762"
      },
      "source": [
        "# Gerando amostragem estartificada novamente, com 20% de teste tentando advinhar 80% da base\n",
        "X_treinamento_u, X_teste_u, y_treinamento_u, y_teste_u = train_test_split(X_under,\n",
        "                                                                          y_under,\n",
        "                                                                          test_size=0.2,\n",
        "                                                                          stratify=y_under)\n",
        "X_treinamento_u.shape, X_teste_u.shape"
      ],
      "execution_count": null,
      "outputs": [
        {
          "output_type": "execute_result",
          "data": {
            "text/plain": [
              "((1517, 3), (380, 3))"
            ]
          },
          "metadata": {},
          "execution_count": 42
        }
      ]
    },
    {
      "cell_type": "code",
      "metadata": {
        "id": "4L5t35-fOlE2",
        "colab": {
          "base_uri": "https://localhost:8080/"
        },
        "outputId": "4b3cc6da-df63-456f-c068-7c0c28d72205"
      },
      "source": [
        "# Recriando a base de probabilidades (modelo) e as previsoes na base de teste, e calculando a acurácia do modelo\n",
        "modelo_u = GaussianNB()\n",
        "modelo_u.fit(X_treinamento_u, y_treinamento_u)\n",
        "previsoes_u = modelo_u.predict(X_teste_u)\n",
        "accuracy_score(y_teste_u,previsoes_u )\n",
        "\n",
        "# De forma geral, aumentamos 1% na acurácia"
      ],
      "execution_count": null,
      "outputs": [
        {
          "output_type": "execute_result",
          "data": {
            "text/plain": [
              "0.9315789473684211"
            ]
          },
          "metadata": {},
          "execution_count": 44
        }
      ]
    },
    {
      "cell_type": "code",
      "metadata": {
        "id": "h-XLF8L9Ozy_",
        "colab": {
          "base_uri": "https://localhost:8080/"
        },
        "outputId": "d23ec2f0-fbfb-41b4-b441-156dc6c72fb1"
      },
      "source": [
        "# Porém, a matriz de confusão retorna um pouco diferente os dados\n",
        "cm_u = confusion_matrix(y_teste_u, previsoes_u)\n",
        "cm_u"
      ],
      "execution_count": null,
      "outputs": [
        {
          "output_type": "execute_result",
          "data": {
            "text/plain": [
              "array([[318,   5],\n",
              "       [ 21,  36]])"
            ]
          },
          "metadata": {},
          "execution_count": 45
        }
      ]
    },
    {
      "cell_type": "code",
      "metadata": {
        "id": "6iLQLurpO5Aj",
        "colab": {
          "base_uri": "https://localhost:8080/"
        },
        "outputId": "81e7cb76-5831-4f03-c5fb-a3491b1996de"
      },
      "source": [
        "# Percentual de acerto para pessoas que pagam o empréstimo - Reduziu um pouco\n",
        "315 / (315 + 26)"
      ],
      "execution_count": null,
      "outputs": [
        {
          "output_type": "execute_result",
          "data": {
            "text/plain": [
              "0.9237536656891495"
            ]
          },
          "metadata": {},
          "execution_count": 46
        }
      ]
    },
    {
      "cell_type": "code",
      "metadata": {
        "id": "EMCdEOACO_BI",
        "colab": {
          "base_uri": "https://localhost:8080/"
        },
        "outputId": "69a1469f-f878-4eff-fd9d-e0bfe74d0922"
      },
      "source": [
        "# Percentual de acerto para pessoas que não pagam o empréstimo\n",
        "# Reduziu bastante, com o modelo de undersampling, nós aumentamos as perdas para o banco, logo, esse modelo não é recomendado para a nossa base\n",
        "31 / (31 + 8)"
      ],
      "execution_count": null,
      "outputs": [
        {
          "output_type": "execute_result",
          "data": {
            "text/plain": [
              "0.7948717948717948"
            ]
          },
          "metadata": {},
          "execution_count": 47
        }
      ]
    },
    {
      "cell_type": "markdown",
      "metadata": {
        "id": "F3mmQGLHQvLr"
      },
      "source": [
        "## Sobreamostragem (oversampling) - SMOTE"
      ]
    },
    {
      "cell_type": "code",
      "source": [
        "# Oversampling basicamente é quando a gente pega a classe minoritária de dados e aumenta ela ao tamanho da classe maio, e os dados não são\n",
        "# escolhidos de formas aleatórios, eles são escolhidos por similaridade e é criado uma base fake com dados próximos.\n",
        "# O algoritimo mais conhecido para subamostra é o SMOTE"
      ],
      "metadata": {
        "id": "R9jejxc3zLTf"
      },
      "execution_count": null,
      "outputs": []
    },
    {
      "cell_type": "code",
      "metadata": {
        "id": "afZorNsRP2ZO"
      },
      "source": [
        "from imblearn.over_sampling import SMOTE"
      ],
      "execution_count": null,
      "outputs": []
    },
    {
      "cell_type": "code",
      "metadata": {
        "id": "-dqqqfx4P8BS"
      },
      "source": [
        "# Aqui está o método está aumentando a amostra minoritária, criando dados similares\n",
        "smote = SMOTE(sampling_strategy='minority')\n",
        "X_over, y_over = smote.fit_resample(X, y)"
      ],
      "execution_count": null,
      "outputs": []
    },
    {
      "cell_type": "code",
      "metadata": {
        "id": "ARlvsdYbQN50",
        "colab": {
          "base_uri": "https://localhost:8080/"
        },
        "outputId": "fdb32d50-f2de-49dd-a39a-be62485da02e"
      },
      "source": [
        "# Aqui, a base aumenta\n",
        "X_over.shape, y_over.shape"
      ],
      "execution_count": null,
      "outputs": [
        {
          "output_type": "execute_result",
          "data": {
            "text/plain": [
              "((3428, 3), (3428,))"
            ]
          },
          "metadata": {},
          "execution_count": 50
        }
      ]
    },
    {
      "cell_type": "code",
      "metadata": {
        "id": "yDjesKDwQUJQ",
        "colab": {
          "base_uri": "https://localhost:8080/"
        },
        "outputId": "507c4ef4-cc71-424e-b0b1-635e6f434289"
      },
      "source": [
        "# Na base original, a gente observa a desproporcionalidade entre as classes\n",
        "np.unique(y, return_counts=True)"
      ],
      "execution_count": null,
      "outputs": [
        {
          "output_type": "execute_result",
          "data": {
            "text/plain": [
              "(array([0, 1]), array([1714,  283]))"
            ]
          },
          "metadata": {},
          "execution_count": 51
        }
      ]
    },
    {
      "cell_type": "code",
      "metadata": {
        "id": "StbCHeZSQYd3",
        "colab": {
          "base_uri": "https://localhost:8080/"
        },
        "outputId": "a2a1748a-baf0-49e0-84f7-cb79b4952ae7"
      },
      "source": [
        "# E na base com aplicação do método over, as duas bases possuem o mesmo tamanhp\n",
        "np.unique(y_over, return_counts=True)"
      ],
      "execution_count": null,
      "outputs": [
        {
          "output_type": "execute_result",
          "data": {
            "text/plain": [
              "(array([0, 1]), array([1714, 1714]))"
            ]
          },
          "metadata": {},
          "execution_count": 52
        }
      ]
    },
    {
      "cell_type": "code",
      "metadata": {
        "id": "6CQ2NDEUQiZG"
      },
      "source": [
        "# Gerando amostragem estartificada novamente, com 20% de teste tentando advinhar 80% da base\n",
        "X_treinamento_o, X_teste_o, y_treinamento_o, y_teste_o = train_test_split(X_over, y_over,\n",
        "                                                                          test_size = 0.2,\n",
        "                                                                          stratify=y_over)"
      ],
      "execution_count": null,
      "outputs": []
    },
    {
      "cell_type": "code",
      "metadata": {
        "id": "xkvfX533QvQ8",
        "colab": {
          "base_uri": "https://localhost:8080/"
        },
        "outputId": "93d9d2a9-d6f5-4411-9b62-34c556fee4c1"
      },
      "source": [
        "X_treinamento_o.shape, X_teste_o.shape"
      ],
      "execution_count": null,
      "outputs": [
        {
          "output_type": "execute_result",
          "data": {
            "text/plain": [
              "((2742, 3), (686, 3))"
            ]
          },
          "metadata": {},
          "execution_count": 54
        }
      ]
    },
    {
      "cell_type": "code",
      "metadata": {
        "id": "2NGU_s0rQ04G",
        "colab": {
          "base_uri": "https://localhost:8080/"
        },
        "outputId": "8947d3ce-5bf5-4431-add6-29b6862fab6c"
      },
      "source": [
        "# Recriando a base de probabilidades (modelo) e as previsoes na base de teste, e calculando a acurácia do modelo\n",
        "modelo_o = GaussianNB()\n",
        "modelo_o.fit(X_treinamento_o, y_treinamento_o)\n",
        "previsoes_o = modelo_o.predict(X_teste_o)\n",
        "accuracy_score(y_teste_o, previsoes_o)\n",
        "\n",
        "# De forma geral, a mesma acurácia"
      ],
      "execution_count": null,
      "outputs": [
        {
          "output_type": "execute_result",
          "data": {
            "text/plain": [
              "0.924198250728863"
            ]
          },
          "metadata": {},
          "execution_count": 55
        }
      ]
    },
    {
      "cell_type": "code",
      "metadata": {
        "id": "iUPJQOgtREhn",
        "colab": {
          "base_uri": "https://localhost:8080/"
        },
        "outputId": "31a7eebc-86e2-47a0-b666-b670fc67e3d6"
      },
      "source": [
        "cm_o = confusion_matrix(previsoes_o, y_teste_o)\n",
        "cm_o"
      ],
      "execution_count": null,
      "outputs": [
        {
          "output_type": "execute_result",
          "data": {
            "text/plain": [
              "array([[303,  12],\n",
              "       [ 40, 331]])"
            ]
          },
          "metadata": {},
          "execution_count": 64
        }
      ]
    },
    {
      "cell_type": "code",
      "source": [
        "# Percentual de acerto para pessoas que pagam o empréstimo - Aumentou bem\n",
        "331 / (331 + 12)"
      ],
      "metadata": {
        "id": "BqC3iyIC5QPM",
        "outputId": "2eed926d-fb41-49ea-8d5d-3f712441549b",
        "colab": {
          "base_uri": "https://localhost:8080/"
        }
      },
      "execution_count": null,
      "outputs": [
        {
          "output_type": "execute_result",
          "data": {
            "text/plain": [
              "0.9650145772594753"
            ]
          },
          "metadata": {},
          "execution_count": 65
        }
      ]
    },
    {
      "cell_type": "code",
      "metadata": {
        "id": "mqBS-EGnRJ0h",
        "colab": {
          "base_uri": "https://localhost:8080/"
        },
        "outputId": "69b26aa5-b417-434f-8e76-300c8ffa30e1"
      },
      "source": [
        "# Percentual de acerto para pessoas que não pagam o empréstimo - Aumentou, chegando em quase 89%\n",
        "303 / (303 + 40)"
      ],
      "execution_count": null,
      "outputs": [
        {
          "output_type": "execute_result",
          "data": {
            "text/plain": [
              "0.8833819241982507"
            ]
          },
          "metadata": {},
          "execution_count": 66
        }
      ]
    },
    {
      "cell_type": "code",
      "metadata": {
        "id": "W6WWS1IDRglA",
        "colab": {
          "base_uri": "https://localhost:8080/"
        },
        "outputId": "29c8a704-6d70-4e26-d91a-b6246ae626a7"
      },
      "source": [
        "# Recalculando as perdas para o banco, podemos observar que só com esse ajuste de amostra com balanceamento de oversampling, reduzimos as perdas\n",
        "# do banco de 900mil para 550mil, uma queda de quase 40%\n",
        "\n",
        "# Perdas: 5.000\n",
        "# Cliente não pagadores: 1.000\n",
        "1000 * 11 // 100,  1000 * 11 / 100  * 5000\n",
        "\n",
        "\n"
      ],
      "execution_count": null,
      "outputs": [
        {
          "output_type": "execute_result",
          "data": {
            "text/plain": [
              "(110, 550000.0)"
            ]
          },
          "metadata": {},
          "execution_count": 72
        }
      ]
    }
  ]
}